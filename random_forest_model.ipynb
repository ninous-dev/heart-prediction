{
 "cells": [
  {
   "cell_type": "code",
   "execution_count": null,
   "metadata": {},
   "outputs": [],
   "source": [
    "import numpy as np"
   ]
  },
  {
   "cell_type": "code",
   "execution_count": null,
   "metadata": {},
   "outputs": [],
   "source": [
    "from collections import Counter"
   ]
  },
  {
   "cell_type": "code",
   "execution_count": 1,
   "metadata": {},
   "outputs": [],
   "source": [
    "# Import Decision Tree Model\n",
    "%run decision_tree_model.ipynb"
   ]
  },
  {
   "cell_type": "markdown",
   "metadata": {},
   "source": [
    "# Random forest class"
   ]
  },
  {
   "cell_type": "code",
   "execution_count": null,
   "metadata": {},
   "outputs": [],
   "source": [
    "# Random forest\n",
    "class RandomForest():\n",
    "    def __init__(self, num_trees = 5, min_participant=2, max_depth=2):\n",
    "        self.num_trees = num_trees\n",
    "        self.min_participant = min_participant\n",
    "        self.max_depth = max_depth\n",
    "        self.decision_trees = []\n",
    "\n",
    "    def random_choice(self, X, y):\n",
    "        n_rows, _ = X.shape\n",
    "        choices = np.random.choice(a=n_rows, size=n_rows, replace=True)\n",
    "        return X[choices], y[choices]\n",
    "        \n",
    "    def fit(self, X, y, x_col_names):\n",
    "        # Reset\n",
    "        if len(self.decision_trees) > 0:\n",
    "            self.decision_trees = []\n",
    "        built_tree = 0\n",
    "        # Build each tree of the forest\n",
    "        while built_tree < self.num_trees:\n",
    "            try:\n",
    "                decision_tree = DecisionTree(\n",
    "                    min_participant=self.min_participant,\n",
    "                    max_depth=self.max_depth\n",
    "                )\n",
    "                # Obtain data sample\n",
    "                X_train, y_train = self.random_choice(X, y)\n",
    "                # Train\n",
    "                decision_tree.fit(X_train, y_train, x_col_names)\n",
    "                # Save the classifier\n",
    "                self.decision_trees.append(decision_tree)\n",
    "                built_tree += 1\n",
    "            except Exception as e:\n",
    "                continue\n",
    "    \n",
    "    def predict(self, X):\n",
    "        # Make predictions with every tree in the forest\n",
    "        y = []\n",
    "        for tree in self.decision_trees:\n",
    "            y.append(tree.predict(X))\n",
    "   \n",
    "        # Reshape so we can find the most common value\n",
    "        y = np.swapaxes(a=y, axis1=0, axis2=1)\n",
    "        # Use majority voting for the final prediction\n",
    "        predictions = []\n",
    "        for preds in y:\n",
    "            counter = Counter(preds)\n",
    "            predictions.append(counter.most_common(1)[0][0])\n",
    "        return predictions"
   ]
  }
 ],
 "metadata": {
  "interpreter": {
   "hash": "7b0737d0a982cf1e153ab6f44678ad7b5c1fe4b0e39dee0b0c44985cb0da0854"
  },
  "kernelspec": {
   "display_name": "Python 3.9.7 64-bit",
   "name": "python3"
  },
  "language_info": {
   "codemirror_mode": {
    "name": "ipython",
    "version": 3
   },
   "file_extension": ".py",
   "mimetype": "text/x-python",
   "name": "python",
   "nbconvert_exporter": "python",
   "pygments_lexer": "ipython3",
   "version": "3.9.7"
  },
  "orig_nbformat": 4
 },
 "nbformat": 4,
 "nbformat_minor": 2
}
